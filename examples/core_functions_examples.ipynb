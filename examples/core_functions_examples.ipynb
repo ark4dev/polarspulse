{
 "cells": [
  {
   "cell_type": "markdown",
   "id": "f1be5eb4",
   "metadata": {},
   "source": [
    "## Sample Data Generation\n",
    "\n",
    "```python\n",
    "import polars as pl\n",
    "import datetime\n",
    "\n",
    "# Sample DataFrame for most examples\n",
    "df = pl.DataFrame({\n",
    "    \"id\": [1, 2, 3, 4, 5, 5], # Row 5 is duplicate of 4 based on id & val\n",
    "    \"group\": [\"A\", \"B\", \"A\", \"C\", None, \"C\"], # Null, C=2, A=2, B=1\n",
    "    \"value\": [10.0, 15.5, 10.0, 99.9, 20.1, 20.1], # Outlier?\n",
    "    \"flag\": [True, False, True, False, True, True], # Boolean\n",
    "    \"constant\": [\"X\", \"X\", \"X\", \"X\", \"X\", \"X\"], # Zero variance\n",
    "    \"date\": pl.date_range(datetime.date(2025, 1, 1), datetime.date(2025, 1, 6), interval=\"1d\", eager=True)\n",
    "})\n",
    "\n",
    "# DataFrame with specific issues for certain examples\n",
    "df_issues = pl.DataFrame({\n",
    "    \"col_a\": [1, 2, 3, 1, 2, 3],\n",
    "    \"col_b\": [1, 2, 3, 1, 2, 3], # Duplicate of col_a\n",
    "    \"col_c\": [None, 5.0, float('nan'), float('inf'), -float('inf'), 6.0]\n",
    "})\n",
    "```"
   ]
  },
  {
   "cell_type": "code",
   "execution_count": 1,
   "id": "23f43dad",
   "metadata": {},
   "outputs": [],
   "source": [
    "import polars as pl\n",
    "import datetime\n",
    "\n",
    "# Sample DataFrame for most examples\n",
    "df = pl.DataFrame({\n",
    "    \"id\": [1, 2, 3, 4, 5, 5], # Row 5 is duplicate of 4 based on id & val\n",
    "    \"group\": [\"A\", \"B\", \"A\", \"C\", None, \"C\"], # Null, C=2, A=2, B=1\n",
    "    \"value\": [10.0, 15.5, 10.0, 99.9, 20.1, 20.1], # Outlier?\n",
    "    \"flag\": [True, False, True, False, True, True], # Boolean\n",
    "    \"constant\": [\"X\", \"X\", \"X\", \"X\", \"X\", \"X\"], # Zero variance\n",
    "    \"date\": pl.date_range(datetime.date(2025, 1, 1), datetime.date(2025, 1, 6), interval=\"1d\", eager=True)\n",
    "})\n",
    "\n",
    "# DataFrame with specific issues for certain examples\n",
    "df_issues = pl.DataFrame({\n",
    "    \"col_a\": [1, 2, 3, 1, 2, 3],\n",
    "    \"col_b\": [1, 2, 3, 1, 2, 3], # Duplicate of col_a\n",
    "    \"col_c\": [None, 5.0, float('nan'), float('inf'), -float('inf'), 6.0]\n",
    "})"
   ]
  },
  {
   "cell_type": "markdown",
   "id": "2dbde9a3",
   "metadata": {},
   "source": [
    "### Column Type Classification\n",
    "\n",
    "```python\n",
    "# Use thresholds: max 3 unique values OR <50% unique for categorical\n",
    "col_types = column_type_ident(df, unique_n_threshold=3, unique_prop_threshold=0.5)\n",
    "print(col_types.select([\"column\", \"col_dtype\", \"approx_n_unique\", \"col_class\"]))\n",
    "```"
   ]
  },
  {
   "cell_type": "code",
   "execution_count": 2,
   "id": "769e6dbb",
   "metadata": {},
   "outputs": [
    {
     "ename": "NameError",
     "evalue": "name 'column_type_ident' is not defined",
     "output_type": "error",
     "traceback": [
      "\u001b[31m---------------------------------------------------------------------------\u001b[39m",
      "\u001b[31mNameError\u001b[39m                                 Traceback (most recent call last)",
      "\u001b[36mCell\u001b[39m\u001b[36m \u001b[39m\u001b[32mIn[2]\u001b[39m\u001b[32m, line 2\u001b[39m\n\u001b[32m      1\u001b[39m \u001b[38;5;66;03m# Use thresholds: max 3 unique values OR <50% unique for categorical\u001b[39;00m\n\u001b[32m----> \u001b[39m\u001b[32m2\u001b[39m col_types = \u001b[43mcolumn_type_ident\u001b[49m(df, unique_n_threshold=\u001b[32m3\u001b[39m, unique_prop_threshold=\u001b[32m0.5\u001b[39m)\n\u001b[32m      3\u001b[39m \u001b[38;5;28mprint\u001b[39m(col_types.select([\u001b[33m\"\u001b[39m\u001b[33mcolumn\u001b[39m\u001b[33m\"\u001b[39m, \u001b[33m\"\u001b[39m\u001b[33mcol_dtype\u001b[39m\u001b[33m\"\u001b[39m, \u001b[33m\"\u001b[39m\u001b[33mapprox_n_unique\u001b[39m\u001b[33m\"\u001b[39m, \u001b[33m\"\u001b[39m\u001b[33mcol_class\u001b[39m\u001b[33m\"\u001b[39m]))\n",
      "\u001b[31mNameError\u001b[39m: name 'column_type_ident' is not defined"
     ]
    }
   ],
   "source": [
    "# Use thresholds: max 3 unique values OR <50% unique for categorical\n",
    "col_types = column_type_ident(df, unique_n_threshold=3, unique_prop_threshold=0.5)\n",
    "print(col_types.select([\"column\", \"col_dtype\", \"approx_n_unique\", \"col_class\"]))"
   ]
  },
  {
   "cell_type": "code",
   "execution_count": null,
   "id": "7c4070d7",
   "metadata": {},
   "outputs": [],
   "source": []
  }
 ],
 "metadata": {
  "kernelspec": {
   "display_name": ".venv",
   "language": "python",
   "name": "python3"
  },
  "language_info": {
   "codemirror_mode": {
    "name": "ipython",
    "version": 3
   },
   "file_extension": ".py",
   "mimetype": "text/x-python",
   "name": "python",
   "nbconvert_exporter": "python",
   "pygments_lexer": "ipython3",
   "version": "3.12.5"
  }
 },
 "nbformat": 4,
 "nbformat_minor": 5
}
